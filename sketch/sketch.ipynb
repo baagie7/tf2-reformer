{
 "cells": [
  {
   "cell_type": "code",
   "execution_count": 1,
   "metadata": {},
   "outputs": [],
   "source": [
    "%load_ext autoreload\n",
    "%autoreload 2\n"
   ]
  },
  {
   "cell_type": "code",
   "execution_count": 2,
   "metadata": {},
   "outputs": [],
   "source": [
    "import tensorflow as tf \n"
   ]
  },
  {
   "cell_type": "code",
   "execution_count": 1,
   "metadata": {
    "scrolled": true
   },
   "outputs": [
    {
     "name": "stdout",
     "output_type": "stream",
     "text": [
      "++++++++++++++++++++\n",
      "tf.Tensor(\n",
      "[[   0    1    7 ...  509  510  511]\n",
      " [ 513  514  515 ... 1020 1022 1023]], shape=(2, 512), dtype=int32)\n",
      "tf.Tensor(\n",
      "[[  0   1   7 ... 509 510 511]\n",
      " [  1   2   3 ... 508 510 511]], shape=(2, 512), dtype=int32)\n",
      "fdas\n",
      "asdf\n",
      "++++++++++++++++++++\n",
      "tf.Tensor(\n",
      "[[   0    1  166 ...  509  510  511]\n",
      " [ 686  512  513 ...  783 1022 1023]], shape=(2, 512), dtype=int32)\n",
      "tf.Tensor(\n",
      "[[  0   1 166 ... 509 510 511]\n",
      " [174   0   1 ... 271 510 511]], shape=(2, 512), dtype=int32)\n",
      "fdas\n",
      "asdf\n",
      "++++++++++++++++++++\n",
      "tf.Tensor(\n",
      "[[   0    1  166 ...  509  510  511]\n",
      " [ 686  512  513 ...  783 1022 1023]], shape=(2, 512), dtype=int32)\n",
      "tf.Tensor(\n",
      "[[0.58721507 0.62593985 0.5243567  ... 0.6829233  0.6065631  0.61259866]\n",
      " [0.51232004 0.64652205 0.48570785 ... 0.50784284 0.51318157 0.6279223 ]], shape=(2, 512), dtype=float32)\n",
      "fdas\n",
      "asdf\n"
     ]
    }
   ],
   "source": [
    "import tensorflow as tf \n",
    "from reformers.TFefficient_attention import TFLSHAttention\n",
    "from tensorflow.keras.layers import Dropout, Dense\n",
    "from reformers.TFutils import sort_key_val, batched_index_select, make_unit_length, chunked_sum, process_inputs_chunk\n",
    "\n",
    "attn = TFLSHAttention(\n",
    "    bucket_size = 64,\n",
    "    n_hashes = 2,\n",
    "    causal = False\n",
    ")\n",
    "\n",
    "qk = tf.random.uniform((2, 256, 16))\n",
    "v = tf.random.uniform((2, 256, 16))\n",
    "\n",
    "out, buckets = attn(qk, v) # (10, 1024, 128)"
   ]
  },
  {
   "cell_type": "code",
   "execution_count": 1,
   "metadata": {},
   "outputs": [
    {
     "name": "stdout",
     "output_type": "stream",
     "text": [
      "tf.Tensor(\n",
      "[3 3 3 3 3 3 3 3 3 3 2 3 3 2 3 3 3 3 3 3 3 3 3 3 3 3 3 3 3 3 2 0 2 3 3 3 3\n",
      " 3 3 0 0 2 3 2 3 3 3 3 3 3 3 3 2 3 2 3 2 3 3 3 3 3 3 3 3 3 3 3 3 3 3 0 3 3\n",
      " 3 3 3 3 3 3 3 3 3 2 3 3 3 3 3 3 3 3 3 3 3 3 3 3 3 3 3 2 3 3 3 3 2 3 3 3 3\n",
      " 2 3 3 3 3 2 3 3 3 0 2 3 2 3 3 3 3 3 3 3 3 3 3 3 3 3 3 3 3 3 3 3 3 3 3 3 3\n",
      " 3 3 3 3 2 3 3 3 3 3 3 3 3 3 3 3 3 3 3 3 3 3 3 3 3 3 3 3 3 3 3 3 3 3 3 3 2\n",
      " 3 3 3 2 3 3 3 3 3 3 3 3 3 3 3 3 3 3 3 3 3 3 3 3 2 3 2 3 3 3 3 3 2 3 3 3 3\n",
      " 3 3 2 3 3 3 3 3 3 3 2 3 3 2 3 3 3 2 2 3 1 3 3 3 3 3 3 2 0 3 3 3 3 3], shape=(256,), dtype=int64)\n",
      "===\n"
     ]
    }
   ],
   "source": [
    "import tensorflow as tf \n",
    "from reformers.TFefficient_attention import TFLSHAttention\n",
    "from tensorflow.keras.layers import Dropout, Dense\n",
    "from reformers.TFutils import sort_key_val, batched_index_select, make_unit_length, chunked_sum, process_inputs_chunk\n",
    "\n",
    "attn = TFLSHAttention(\n",
    "    bucket_size = 64,\n",
    "    n_hashes = 1,\n",
    "    causal = False\n",
    ")\n",
    "\n",
    "qk = tf.random.uniform((2, 256, 16))\n",
    "v = tf.random.uniform((2, 256, 16))\n",
    "\n",
    "out, buckets = attn(qk, v) # (10, 1024, 128)"
   ]
  },
  {
   "cell_type": "code",
   "execution_count": 5,
   "metadata": {},
   "outputs": [
    {
     "data": {
      "text/plain": [
       "<tf.Tensor: shape=(2, 256, 16), dtype=float32, numpy=\n",
       "array([[[0.6349696 , 0.8870046 , 0.96833754, ..., 0.45873165,\n",
       "         0.80355453, 0.1771779 ],\n",
       "        [0.55375874, 0.8124064 , 0.77555585, ..., 0.2240206 ,\n",
       "         0.14000368, 0.35788143],\n",
       "        [0.35894597, 0.25002563, 0.7759359 , ..., 0.901487  ,\n",
       "         0.32189858, 0.46245825],\n",
       "        ...,\n",
       "        [0.38633358, 0.35061932, 0.516948  , ..., 0.04124165,\n",
       "         0.44311464, 0.00886929],\n",
       "        [0.37212253, 0.758752  , 0.17480183, ..., 0.807055  ,\n",
       "         0.5089704 , 0.6757276 ],\n",
       "        [0.23407757, 0.19773078, 0.6416005 , ..., 0.3561448 ,\n",
       "         0.06600809, 0.7485579 ]],\n",
       "\n",
       "       [[0.4466529 , 0.05328679, 0.10970092, ..., 0.75711703,\n",
       "         0.49264002, 0.9559665 ],\n",
       "        [0.48114884, 0.4992566 , 0.47907162, ..., 0.55849874,\n",
       "         0.3162819 , 0.79132986],\n",
       "        [0.20151246, 0.37211692, 0.14437246, ..., 0.15851283,\n",
       "         0.4606787 , 0.8272649 ],\n",
       "        ...,\n",
       "        [0.5121856 , 0.10443282, 0.88503957, ..., 0.47585905,\n",
       "         0.57660055, 0.3569666 ],\n",
       "        [0.02951002, 0.7538854 , 0.76534367, ..., 0.6333344 ,\n",
       "         0.8416605 , 0.80582404],\n",
       "        [0.94249237, 0.7463505 , 0.06476402, ..., 0.99338424,\n",
       "         0.5430411 , 0.36757922]]], dtype=float32)>"
      ]
     },
     "execution_count": 5,
     "metadata": {},
     "output_type": "execute_result"
    }
   ],
   "source": [
    "out"
   ]
  },
  {
   "cell_type": "code",
   "execution_count": 3,
   "metadata": {},
   "outputs": [
    {
     "data": {
      "text/plain": [
       "<tf.Tensor: shape=(2, 256), dtype=int64, numpy=\n",
       "array([[3, 3, 3, 3, 3, 3, 3, 3, 3, 3, 2, 3, 3, 2, 3, 3, 3, 3, 3, 3, 3, 3,\n",
       "        3, 3, 3, 3, 3, 3, 3, 3, 2, 0, 2, 3, 3, 3, 3, 3, 3, 0, 0, 2, 3, 2,\n",
       "        3, 3, 3, 3, 3, 3, 3, 3, 2, 3, 2, 3, 2, 3, 3, 3, 3, 3, 3, 3, 3, 3,\n",
       "        3, 3, 3, 3, 3, 0, 3, 3, 3, 3, 3, 3, 3, 3, 3, 3, 3, 2, 3, 3, 3, 3,\n",
       "        3, 3, 3, 3, 3, 3, 3, 3, 3, 3, 3, 3, 3, 2, 3, 3, 3, 3, 2, 3, 3, 3,\n",
       "        3, 2, 3, 3, 3, 3, 2, 3, 3, 3, 0, 2, 3, 2, 3, 3, 3, 3, 3, 3, 3, 3,\n",
       "        3, 3, 3, 3, 3, 3, 3, 3, 3, 3, 3, 3, 3, 3, 3, 3, 3, 3, 3, 3, 2, 3,\n",
       "        3, 3, 3, 3, 3, 3, 3, 3, 3, 3, 3, 3, 3, 3, 3, 3, 3, 3, 3, 3, 3, 3,\n",
       "        3, 3, 3, 3, 3, 3, 3, 3, 2, 3, 3, 3, 2, 3, 3, 3, 3, 3, 3, 3, 3, 3,\n",
       "        3, 3, 3, 3, 3, 3, 3, 3, 3, 3, 3, 2, 3, 2, 3, 3, 3, 3, 3, 2, 3, 3,\n",
       "        3, 3, 3, 3, 2, 3, 3, 3, 3, 3, 3, 3, 2, 3, 3, 2, 3, 3, 3, 2, 2, 3,\n",
       "        1, 3, 3, 3, 3, 3, 3, 2, 0, 3, 3, 3, 3, 3],\n",
       "       [3, 3, 0, 3, 3, 3, 3, 3, 3, 3, 3, 3, 3, 3, 3, 3, 3, 3, 3, 2, 3, 3,\n",
       "        3, 3, 3, 3, 3, 3, 3, 3, 3, 3, 3, 3, 3, 3, 3, 3, 3, 3, 3, 3, 2, 2,\n",
       "        3, 3, 3, 3, 3, 3, 3, 2, 3, 2, 3, 3, 3, 3, 3, 3, 3, 0, 3, 3, 3, 3,\n",
       "        3, 3, 3, 3, 3, 3, 3, 2, 3, 3, 3, 3, 3, 3, 3, 3, 3, 3, 3, 3, 2, 3,\n",
       "        3, 3, 3, 3, 3, 3, 3, 3, 3, 3, 2, 3, 3, 3, 3, 3, 3, 3, 3, 3, 3, 3,\n",
       "        2, 3, 3, 3, 3, 3, 2, 3, 3, 3, 3, 2, 3, 3, 3, 3, 3, 3, 3, 3, 3, 2,\n",
       "        3, 3, 3, 3, 3, 3, 3, 3, 3, 3, 3, 3, 3, 3, 3, 3, 3, 3, 3, 3, 3, 3,\n",
       "        3, 3, 3, 3, 3, 3, 3, 0, 3, 3, 3, 2, 3, 3, 3, 3, 3, 2, 3, 3, 3, 3,\n",
       "        3, 3, 3, 3, 3, 3, 3, 2, 2, 3, 3, 3, 3, 3, 3, 3, 3, 3, 3, 3, 3, 3,\n",
       "        3, 3, 3, 3, 3, 3, 3, 3, 3, 2, 3, 3, 3, 3, 2, 3, 3, 3, 3, 3, 3, 3,\n",
       "        3, 3, 3, 3, 0, 3, 3, 3, 3, 3, 3, 3, 3, 3, 3, 3, 3, 3, 3, 2, 3, 3,\n",
       "        3, 3, 0, 3, 3, 3, 3, 3, 3, 3, 3, 3, 2, 3]])>"
      ]
     },
     "execution_count": 3,
     "metadata": {},
     "output_type": "execute_result"
    }
   ],
   "source": [
    "buckets"
   ]
  },
  {
   "cell_type": "code",
   "execution_count": 4,
   "metadata": {},
   "outputs": [
    {
     "name": "stdout",
     "output_type": "stream",
     "text": [
      "tf.Tensor(\n",
      "[[[ 0  1  2  3]\n",
      "  [ 4  5  6  7]\n",
      "  [ 8  9 10 11]]\n",
      "\n",
      " [[12 13 14 15]\n",
      "  [16 17 18 19]\n",
      "  [20 21 22 23]]], shape=(2, 3, 4), dtype=int32) tf.Tensor(\n",
      "[[2 1 1 2 0]\n",
      " [2 1 2 0 0]], shape=(2, 5), dtype=int32)\n"
     ]
    }
   ],
   "source": [
    "#get embedding by index \n",
    "x = tf.reshape(tf.range(24),[2,3,4])\n",
    "y=tf.constant([[2,1,1,2,0],[2,1,2,0,0]])\n",
    "print(x,y)"
   ]
  },
  {
   "cell_type": "code",
   "execution_count": 5,
   "metadata": {},
   "outputs": [],
   "source": [
    "z = tf.reshape(x,[-1,x.shape[-1]])"
   ]
  },
  {
   "cell_type": "code",
   "execution_count": 6,
   "metadata": {},
   "outputs": [
    {
     "name": "stdout",
     "output_type": "stream",
     "text": [
      "tf.Tensor(\n",
      "[[0 0 0 0 0]\n",
      " [3 3 3 3 3]], shape=(2, 5), dtype=int32)\n"
     ]
    }
   ],
   "source": [
    "offset=tf.range(y.shape[0])*x.shape[1]\n",
    "offset=tf.reshape(offset,[-1,1])\n",
    "offset=tf.broadcast_to(offset, y.shape)\n",
    "print(offset)"
   ]
  },
  {
   "cell_type": "code",
   "execution_count": 7,
   "metadata": {},
   "outputs": [
    {
     "name": "stdout",
     "output_type": "stream",
     "text": [
      "tf.Tensor(\n",
      "[[[ 8  9 10 11]\n",
      "  [ 4  5  6  7]\n",
      "  [ 4  5  6  7]\n",
      "  [ 8  9 10 11]\n",
      "  [ 0  1  2  3]]\n",
      "\n",
      " [[20 21 22 23]\n",
      "  [16 17 18 19]\n",
      "  [20 21 22 23]\n",
      "  [12 13 14 15]\n",
      "  [12 13 14 15]]], shape=(2, 5, 4), dtype=int32)\n"
     ]
    }
   ],
   "source": [
    "result = tf.gather(z,y+offset)\n",
    "print(result)"
   ]
  },
  {
   "cell_type": "code",
   "execution_count": 8,
   "metadata": {},
   "outputs": [
    {
     "name": "stdout",
     "output_type": "stream",
     "text": [
      "tf.Tensor(\n",
      "[[[[ 40  41  42  43  44]\n",
      "   [ 45  46  47  48  49]\n",
      "   [ 50  51  52  53  54]\n",
      "   [ 55  56  57  58  59]]\n",
      "\n",
      "  [[  0   1   2   3   4]\n",
      "   [  5   6   7   8   9]\n",
      "   [ 10  11  12  13  14]\n",
      "   [ 15  16  17  18  19]]\n",
      "\n",
      "  [[ 20  21  22  23  24]\n",
      "   [ 25  26  27  28  29]\n",
      "   [ 30  31  32  33  34]\n",
      "   [ 35  36  37  38  39]]]\n",
      "\n",
      "\n",
      " [[[100 101 102 103 104]\n",
      "   [105 106 107 108 109]\n",
      "   [110 111 112 113 114]\n",
      "   [115 116 117 118 119]]\n",
      "\n",
      "  [[ 60  61  62  63  64]\n",
      "   [ 65  66  67  68  69]\n",
      "   [ 70  71  72  73  74]\n",
      "   [ 75  76  77  78  79]]\n",
      "\n",
      "  [[ 80  81  82  83  84]\n",
      "   [ 85  86  87  88  89]\n",
      "   [ 90  91  92  93  94]\n",
      "   [ 95  96  97  98  99]]]], shape=(2, 3, 4, 5), dtype=int32)\n",
      "tf.Tensor(\n",
      "[[[[  0   1   2   3   4]\n",
      "   [  5   6   7   8   9]\n",
      "   [ 10  11  12  13  14]\n",
      "   [ 15  16  17  18  19]]\n",
      "\n",
      "  [[ 20  21  22  23  24]\n",
      "   [ 25  26  27  28  29]\n",
      "   [ 30  31  32  33  34]\n",
      "   [ 35  36  37  38  39]]\n",
      "\n",
      "  [[ 40  41  42  43  44]\n",
      "   [ 45  46  47  48  49]\n",
      "   [ 50  51  52  53  54]\n",
      "   [ 55  56  57  58  59]]]\n",
      "\n",
      "\n",
      " [[[ 60  61  62  63  64]\n",
      "   [ 65  66  67  68  69]\n",
      "   [ 70  71  72  73  74]\n",
      "   [ 75  76  77  78  79]]\n",
      "\n",
      "  [[ 80  81  82  83  84]\n",
      "   [ 85  86  87  88  89]\n",
      "   [ 90  91  92  93  94]\n",
      "   [ 95  96  97  98  99]]\n",
      "\n",
      "  [[100 101 102 103 104]\n",
      "   [105 106 107 108 109]\n",
      "   [110 111 112 113 114]\n",
      "   [115 116 117 118 119]]]], shape=(2, 3, 4, 5), dtype=int32)\n",
      "tf.Tensor(\n",
      "[[[[ 40  41  42  43  44]\n",
      "   [ 45  46  47  48  49]\n",
      "   [ 50  51  52  53  54]\n",
      "   [ 55  56  57  58  59]]]\n",
      "\n",
      "\n",
      " [[[100 101 102 103 104]\n",
      "   [105 106 107 108 109]\n",
      "   [110 111 112 113 114]\n",
      "   [115 116 117 118 119]]]], shape=(2, 1, 4, 5), dtype=int32)\n",
      "tf.Tensor(\n",
      "[[[[ 0  1  2  3  4]\n",
      "   [ 5  6  7  8  9]\n",
      "   [10 11 12 13 14]\n",
      "   [15 16 17 18 19]]\n",
      "\n",
      "  [[20 21 22 23 24]\n",
      "   [25 26 27 28 29]\n",
      "   [30 31 32 33 34]\n",
      "   [35 36 37 38 39]]]\n",
      "\n",
      "\n",
      " [[[60 61 62 63 64]\n",
      "   [65 66 67 68 69]\n",
      "   [70 71 72 73 74]\n",
      "   [75 76 77 78 79]]\n",
      "\n",
      "  [[80 81 82 83 84]\n",
      "   [85 86 87 88 89]\n",
      "   [90 91 92 93 94]\n",
      "   [95 96 97 98 99]]]], shape=(2, 2, 4, 5), dtype=int32)\n"
     ]
    }
   ],
   "source": [
    "#-1 slicing\n",
    "x = tf.reshape(tf.range(120),[2,3,4,5])\n",
    "aa=tf.concat([x[:, -1:, ...], x[:, :-1, ...]], axis=1)\n",
    "print(aa)\n",
    "print(x)\n",
    "print(x[:, -1:,:, ...])\n",
    "print(x[:, :-1, ...])"
   ]
  },
  {
   "cell_type": "code",
   "execution_count": 9,
   "metadata": {},
   "outputs": [
    {
     "name": "stdout",
     "output_type": "stream",
     "text": [
      "tf.Tensor(\n",
      "[[[[  0   1   2   3   4]\n",
      "   [  5   6   7   8   9]\n",
      "   [ 10  11  12  13  14]\n",
      "   [ 15  16  17  18  19]\n",
      "   [ 40  41  42  43  44]\n",
      "   [ 45  46  47  48  49]\n",
      "   [ 50  51  52  53  54]\n",
      "   [ 55  56  57  58  59]]\n",
      "\n",
      "  [[ 20  21  22  23  24]\n",
      "   [ 25  26  27  28  29]\n",
      "   [ 30  31  32  33  34]\n",
      "   [ 35  36  37  38  39]\n",
      "   [  0   1   2   3   4]\n",
      "   [  5   6   7   8   9]\n",
      "   [ 10  11  12  13  14]\n",
      "   [ 15  16  17  18  19]]\n",
      "\n",
      "  [[ 40  41  42  43  44]\n",
      "   [ 45  46  47  48  49]\n",
      "   [ 50  51  52  53  54]\n",
      "   [ 55  56  57  58  59]\n",
      "   [ 20  21  22  23  24]\n",
      "   [ 25  26  27  28  29]\n",
      "   [ 30  31  32  33  34]\n",
      "   [ 35  36  37  38  39]]]\n",
      "\n",
      "\n",
      " [[[ 60  61  62  63  64]\n",
      "   [ 65  66  67  68  69]\n",
      "   [ 70  71  72  73  74]\n",
      "   [ 75  76  77  78  79]\n",
      "   [100 101 102 103 104]\n",
      "   [105 106 107 108 109]\n",
      "   [110 111 112 113 114]\n",
      "   [115 116 117 118 119]]\n",
      "\n",
      "  [[ 80  81  82  83  84]\n",
      "   [ 85  86  87  88  89]\n",
      "   [ 90  91  92  93  94]\n",
      "   [ 95  96  97  98  99]\n",
      "   [ 60  61  62  63  64]\n",
      "   [ 65  66  67  68  69]\n",
      "   [ 70  71  72  73  74]\n",
      "   [ 75  76  77  78  79]]\n",
      "\n",
      "  [[100 101 102 103 104]\n",
      "   [105 106 107 108 109]\n",
      "   [110 111 112 113 114]\n",
      "   [115 116 117 118 119]\n",
      "   [ 80  81  82  83  84]\n",
      "   [ 85  86  87  88  89]\n",
      "   [ 90  91  92  93  94]\n",
      "   [ 95  96  97  98  99]]]], shape=(2, 3, 8, 5), dtype=int32)\n"
     ]
    }
   ],
   "source": [
    "bb=tf.concat([x, aa], axis=2)\n",
    "print(bb)"
   ]
  },
  {
   "cell_type": "code",
   "execution_count": 10,
   "metadata": {},
   "outputs": [
    {
     "data": {
      "text/plain": [
       "<tf.Tensor: shape=(1,), dtype=int32, numpy=array([0], dtype=int32)>"
      ]
     },
     "execution_count": 10,
     "metadata": {},
     "output_type": "execute_result"
    }
   ],
   "source": [
    "y=tf.constant([[2,1,1,2,0],[2,1,2,0,0]])\n",
    "y[0][-1:]"
   ]
  },
  {
   "cell_type": "code",
   "execution_count": null,
   "metadata": {},
   "outputs": [],
   "source": []
  },
  {
   "cell_type": "code",
   "execution_count": 11,
   "metadata": {},
   "outputs": [],
   "source": [
    "#softmax\n",
    "dots = tf.reshape(tf.range(120),[2,3,4,5])\n",
    "dots= tf.cast(dots,tf.float32)\n",
    "dots_logsumexp = tf.math.reduce_logsumexp(dots, axis=1, keepdims=True)\n",
    "dots = tf.exp(dots - dots_logsumexp)"
   ]
  },
  {
   "cell_type": "code",
   "execution_count": 12,
   "metadata": {},
   "outputs": [
    {
     "data": {
      "text/plain": [
       "<tf.Tensor: shape=(2, 3, 4, 5), dtype=float32, numpy=\n",
       "array([[[[4.2483541e-18, 4.2483541e-18, 4.2483541e-18, 4.2483541e-18,\n",
       "          4.2483541e-18],\n",
       "         [4.2483541e-18, 4.2483541e-18, 4.2483541e-18, 4.2483541e-18,\n",
       "          4.2483541e-18],\n",
       "         [4.2483541e-18, 4.2483541e-18, 4.2483541e-18, 4.2483541e-18,\n",
       "          4.2483541e-18],\n",
       "         [4.2483541e-18, 4.2483541e-18, 4.2483541e-18, 4.2483541e-18,\n",
       "          4.2483541e-18]],\n",
       "\n",
       "        [[2.0611535e-09, 2.0611535e-09, 2.0611535e-09, 2.0611535e-09,\n",
       "          2.0611535e-09],\n",
       "         [2.0611535e-09, 2.0611535e-09, 2.0611535e-09, 2.0611535e-09,\n",
       "          2.0611535e-09],\n",
       "         [2.0611535e-09, 2.0611535e-09, 2.0611535e-09, 2.0611535e-09,\n",
       "          2.0611535e-09],\n",
       "         [2.0611535e-09, 2.0611535e-09, 2.0611535e-09, 2.0611535e-09,\n",
       "          2.0611535e-09]],\n",
       "\n",
       "        [[1.0000000e+00, 1.0000000e+00, 1.0000000e+00, 1.0000000e+00,\n",
       "          1.0000000e+00],\n",
       "         [1.0000000e+00, 1.0000000e+00, 1.0000000e+00, 1.0000000e+00,\n",
       "          1.0000000e+00],\n",
       "         [1.0000000e+00, 1.0000000e+00, 1.0000000e+00, 1.0000000e+00,\n",
       "          1.0000000e+00],\n",
       "         [1.0000000e+00, 1.0000000e+00, 1.0000000e+00, 1.0000000e+00,\n",
       "          1.0000000e+00]]],\n",
       "\n",
       "\n",
       "       [[[4.2483541e-18, 4.2483541e-18, 4.2483541e-18, 4.2483541e-18,\n",
       "          4.2483541e-18],\n",
       "         [4.2483541e-18, 4.2483541e-18, 4.2483541e-18, 4.2483541e-18,\n",
       "          4.2483541e-18],\n",
       "         [4.2483541e-18, 4.2483541e-18, 4.2483541e-18, 4.2483541e-18,\n",
       "          4.2483541e-18],\n",
       "         [4.2483541e-18, 4.2483541e-18, 4.2483541e-18, 4.2483541e-18,\n",
       "          4.2483541e-18]],\n",
       "\n",
       "        [[2.0611535e-09, 2.0611535e-09, 2.0611535e-09, 2.0611535e-09,\n",
       "          2.0611535e-09],\n",
       "         [2.0611535e-09, 2.0611535e-09, 2.0611535e-09, 2.0611535e-09,\n",
       "          2.0611535e-09],\n",
       "         [2.0611535e-09, 2.0611535e-09, 2.0611535e-09, 2.0611535e-09,\n",
       "          2.0611535e-09],\n",
       "         [2.0611535e-09, 2.0611535e-09, 2.0611535e-09, 2.0611535e-09,\n",
       "          2.0611535e-09]],\n",
       "\n",
       "        [[1.0000000e+00, 1.0000000e+00, 1.0000000e+00, 1.0000000e+00,\n",
       "          1.0000000e+00],\n",
       "         [1.0000000e+00, 1.0000000e+00, 1.0000000e+00, 1.0000000e+00,\n",
       "          1.0000000e+00],\n",
       "         [1.0000000e+00, 1.0000000e+00, 1.0000000e+00, 1.0000000e+00,\n",
       "          1.0000000e+00],\n",
       "         [1.0000000e+00, 1.0000000e+00, 1.0000000e+00, 1.0000000e+00,\n",
       "          1.0000000e+00]]]], dtype=float32)>"
      ]
     },
     "execution_count": 12,
     "metadata": {},
     "output_type": "execute_result"
    }
   ],
   "source": [
    "dots\n"
   ]
  },
  {
   "cell_type": "code",
   "execution_count": 13,
   "metadata": {},
   "outputs": [
    {
     "data": {
      "text/plain": [
       "<tf.Tensor: shape=(2, 4, 5), dtype=float32, numpy=\n",
       "array([[[1., 1., 1., 1., 1.],\n",
       "        [1., 1., 1., 1., 1.],\n",
       "        [1., 1., 1., 1., 1.],\n",
       "        [1., 1., 1., 1., 1.]],\n",
       "\n",
       "       [[1., 1., 1., 1., 1.],\n",
       "        [1., 1., 1., 1., 1.],\n",
       "        [1., 1., 1., 1., 1.],\n",
       "        [1., 1., 1., 1., 1.]]], dtype=float32)>"
      ]
     },
     "execution_count": 13,
     "metadata": {},
     "output_type": "execute_result"
    }
   ],
   "source": [
    "tf.reduce_sum(dots, axis=1)"
   ]
  },
  {
   "cell_type": "code",
   "execution_count": 14,
   "metadata": {},
   "outputs": [],
   "source": [
    "# None in index is unsqueeze\n",
    "# 부등호처리 배치끼리 -1 dimension 통째로 서로 비교 \n",
    "ran=tf.random.uniform([2,3,4], minval=0, maxval=10,dtype=tf.int64)"
   ]
  },
  {
   "cell_type": "code",
   "execution_count": 15,
   "metadata": {},
   "outputs": [
    {
     "name": "stdout",
     "output_type": "stream",
     "text": [
      "tf.Tensor(\n",
      "[[[[5 8 5 4]\n",
      "   [9 5 9 6]\n",
      "   [8 5 1 0]]]\n",
      "\n",
      "\n",
      " [[[3 1 9 3]\n",
      "   [2 6 3 0]\n",
      "   [5 1 9 8]]]], shape=(2, 1, 3, 4), dtype=int64)\n",
      "tf.Tensor(\n",
      "[[[[5 8 5 4]]\n",
      "\n",
      "  [[9 5 9 6]]\n",
      "\n",
      "  [[8 5 1 0]]]\n",
      "\n",
      "\n",
      " [[[3 1 9 3]]\n",
      "\n",
      "  [[2 6 3 0]]\n",
      "\n",
      "  [[5 1 9 8]]]], shape=(2, 3, 1, 4), dtype=int64)\n",
      "tf.Tensor(\n",
      "[[[[False False False False]\n",
      "   [ True False  True  True]\n",
      "   [ True False False False]]\n",
      "\n",
      "  [[False  True False False]\n",
      "   [False False False False]\n",
      "   [False False False False]]\n",
      "\n",
      "  [[False  True  True  True]\n",
      "   [ True False  True  True]\n",
      "   [False False False False]]]\n",
      "\n",
      "\n",
      " [[[False False False False]\n",
      "   [False  True False False]\n",
      "   [ True False False  True]]\n",
      "\n",
      "  [[ True False  True  True]\n",
      "   [False False False False]\n",
      "   [ True False  True  True]]\n",
      "\n",
      "  [[False False False False]\n",
      "   [False  True False False]\n",
      "   [False False False False]]]], shape=(2, 3, 3, 4), dtype=bool)\n",
      "tf.Tensor(\n",
      "[[[[False False False False]\n",
      "   [ True  True  True  True]\n",
      "   [ True  True  True  True]]\n",
      "\n",
      "  [[ True  True  True  True]\n",
      "   [False False False False]\n",
      "   [ True False  True  True]]\n",
      "\n",
      "  [[ True  True  True  True]\n",
      "   [ True False  True  True]\n",
      "   [False False False False]]]\n",
      "\n",
      "\n",
      " [[[False False False False]\n",
      "   [ True  True  True  True]\n",
      "   [ True False False  True]]\n",
      "\n",
      "  [[ True  True  True  True]\n",
      "   [False False False False]\n",
      "   [ True  True  True  True]]\n",
      "\n",
      "  [[ True False False  True]\n",
      "   [ True  True  True  True]\n",
      "   [False False False False]]]], shape=(2, 3, 3, 4), dtype=bool)\n"
     ]
    }
   ],
   "source": [
    "print(ran[:,None,:])\n",
    "print(ran[:,:,None])\n",
    "print(ran[:,:,None]<ran[:,None,:])\n",
    "print(ran[:,:,None]!=ran[:,None,:])\n"
   ]
  },
  {
   "cell_type": "code",
   "execution_count": 59,
   "metadata": {},
   "outputs": [],
   "source": [
    "#sort key val\n",
    "import torch \n",
    "def pt_sort_key_val(t1, t2, dim=-1):\n",
    "    values, indices = t1.sort(dim=dim)\n",
    "    print(indices)\n",
    "    t2 = t2.expand_as(t1)\n",
    "    return values, t2.gather(dim, indices)"
   ]
  },
  {
   "cell_type": "code",
   "execution_count": 60,
   "metadata": {},
   "outputs": [],
   "source": [
    "xxxx=torch.Tensor(\n",
    "[[0 ,1, 2, 3 ,4],\n",
    " [0 ,2 ,3, 1 ,1],\n",
    " [4,4,3,2,1],\n",
    " [3,2,1,4,0]])"
   ]
  },
  {
   "cell_type": "code",
   "execution_count": 56,
   "metadata": {},
   "outputs": [
    {
     "data": {
      "text/plain": [
       "(tensor([[ 7,  6,  9,  9,  4],\n",
       "         [ 3,  5, 15, 15,  4],\n",
       "         [ 6,  1,  3,  7, 13],\n",
       "         [15, 16,  9,  0,  5]]),\n",
       " tensor([[0, 1, 2, 3, 4]]))"
      ]
     },
     "execution_count": 56,
     "metadata": {},
     "output_type": "execute_result"
    }
   ],
   "source": [
    "pt_example,pt_ticker"
   ]
  },
  {
   "cell_type": "code",
   "execution_count": 19,
   "metadata": {},
   "outputs": [],
   "source": [
    "a,b= pt_sort_key_val(pt_example,pt_ticker)"
   ]
  },
  {
   "cell_type": "code",
   "execution_count": 61,
   "metadata": {},
   "outputs": [
    {
     "name": "stdout",
     "output_type": "stream",
     "text": [
      "tensor([[4, 1, 0, 2, 3],\n",
      "        [0, 4, 1, 2, 3],\n",
      "        [1, 2, 0, 3, 4],\n",
      "        [3, 4, 2, 0, 1]])\n"
     ]
    }
   ],
   "source": [
    "a,b= pt_sort_key_val(pt_example,xxxx)"
   ]
  },
  {
   "cell_type": "code",
   "execution_count": 62,
   "metadata": {},
   "outputs": [
    {
     "data": {
      "text/plain": [
       "(tensor([[ 4,  6,  7,  9,  9],\n",
       "         [ 3,  4,  5, 15, 15],\n",
       "         [ 1,  3,  6,  7, 13],\n",
       "         [ 0,  5,  9, 15, 16]]),\n",
       " tensor([[4., 1., 0., 2., 3.],\n",
       "         [0., 1., 2., 3., 1.],\n",
       "         [4., 3., 4., 2., 1.],\n",
       "         [4., 0., 1., 3., 2.]]))"
      ]
     },
     "execution_count": 62,
     "metadata": {},
     "output_type": "execute_result"
    }
   ],
   "source": [
    "a,b"
   ]
  },
  {
   "cell_type": "code",
   "execution_count": 21,
   "metadata": {},
   "outputs": [
    {
     "data": {
      "text/plain": [
       "(<tf.Tensor: shape=(4, 5), dtype=int64, numpy=\n",
       " array([[0, 7, 3, 7, 5],\n",
       "        [0, 5, 7, 3, 0],\n",
       "        [6, 3, 7, 8, 1],\n",
       "        [1, 1, 0, 6, 0]])>,\n",
       " <tf.Tensor: shape=(1, 5), dtype=int32, numpy=array([[0, 1, 2, 3, 4]], dtype=int32)>)"
      ]
     },
     "execution_count": 21,
     "metadata": {},
     "output_type": "execute_result"
    }
   ],
   "source": [
    "example = tf.random.uniform([4,5], minval=0, maxval=10,dtype=tf.int64)\n",
    "ticker = tf.expand_dims(tf.range(5), axis=0)\n",
    "example,ticker"
   ]
  },
  {
   "cell_type": "code",
   "execution_count": 22,
   "metadata": {},
   "outputs": [],
   "source": [
    "def sort_key_val(t1, t2, dim=-1):\n",
    "    values = tf.sort(t1, axis=dim)\n",
    "    #t2 = tf.broadcast_to(t2, t1.shape)\n",
    "    print(t2)\n",
    "    return values, tf.gather(t2, tf.argsort(t1, axis=0), axis=dim)\n",
    "def sort_key_val_2(t1, t2, dim=-1):\n",
    "    values = tf.sort(t1, axis=dim)\n",
    "    \n",
    "    offset=tf.range(t1.shape[0])*t1.shape[1]\n",
    "    offset=tf.reshape(offset,[-1,1])\n",
    "    offset=tf.broadcast_to(offset, t1.shape)\n",
    "\n",
    "    t2 = tf.broadcast_to(t2, t1.shape)\n",
    "    print(\"t1\")\n",
    "    print(t1)\n",
    "    print(\"t2\")\n",
    "    print(t2)\n",
    "    print(\"t1 argsort\")\n",
    "    print(tf.argsort(t1, axis=dim))\n",
    "    return values, tf.gather(tf.reshape(t2,(-1)), tf.argsort(t1, axis=dim)+offset, axis=dim)"
   ]
  },
  {
   "cell_type": "code",
   "execution_count": 23,
   "metadata": {},
   "outputs": [
    {
     "name": "stdout",
     "output_type": "stream",
     "text": [
      "tf.Tensor([[0 1 2 3 4]], shape=(1, 5), dtype=int32)\n"
     ]
    }
   ],
   "source": [
    "c,d=sort_key_val(example,ticker)"
   ]
  },
  {
   "cell_type": "code",
   "execution_count": 24,
   "metadata": {},
   "outputs": [
    {
     "data": {
      "text/plain": [
       "(<tf.Tensor: shape=(4, 5), dtype=int64, numpy=\n",
       " array([[0, 3, 5, 7, 7],\n",
       "        [0, 0, 3, 5, 7],\n",
       "        [1, 3, 6, 7, 8],\n",
       "        [0, 0, 1, 1, 6]])>,\n",
       " <tf.Tensor: shape=(1, 4, 5), dtype=int32, numpy=\n",
       " array([[[0, 3, 3, 1, 1],\n",
       "         [1, 2, 0, 3, 3],\n",
       "         [3, 1, 1, 0, 2],\n",
       "         [2, 0, 2, 2, 0]]], dtype=int32)>)"
      ]
     },
     "execution_count": 24,
     "metadata": {},
     "output_type": "execute_result"
    }
   ],
   "source": [
    "c,d"
   ]
  },
  {
   "cell_type": "code",
   "execution_count": 25,
   "metadata": {},
   "outputs": [
    {
     "name": "stdout",
     "output_type": "stream",
     "text": [
      "tf.Tensor([[0 1 2 3 4]], shape=(1, 5), dtype=int32)\n"
     ]
    }
   ],
   "source": [
    "c,d=sort_key_val(example,ticker)"
   ]
  },
  {
   "cell_type": "code",
   "execution_count": 26,
   "metadata": {
    "scrolled": true
   },
   "outputs": [
    {
     "data": {
      "text/plain": [
       "(<tf.Tensor: shape=(4, 5), dtype=int64, numpy=\n",
       " array([[0, 3, 5, 7, 7],\n",
       "        [0, 0, 3, 5, 7],\n",
       "        [1, 3, 6, 7, 8],\n",
       "        [0, 0, 1, 1, 6]])>,\n",
       " <tf.Tensor: shape=(1, 4, 5), dtype=int32, numpy=\n",
       " array([[[0, 3, 3, 1, 1],\n",
       "         [1, 2, 0, 3, 3],\n",
       "         [3, 1, 1, 0, 2],\n",
       "         [2, 0, 2, 2, 0]]], dtype=int32)>)"
      ]
     },
     "execution_count": 26,
     "metadata": {},
     "output_type": "execute_result"
    }
   ],
   "source": [
    "c,d"
   ]
  },
  {
   "cell_type": "code",
   "execution_count": 27,
   "metadata": {},
   "outputs": [
    {
     "name": "stdout",
     "output_type": "stream",
     "text": [
      "tf.Tensor(\n",
      "[[0 1 2 3 4]\n",
      " [0 2 3 1 1]\n",
      " [4 4 3 2 1]\n",
      " [3 2 1 4 0]], shape=(4, 5), dtype=int32)\n"
     ]
    }
   ],
   "source": [
    "xxxx=tf.constant(\n",
    "[[0 ,1, 2, 3 ,4],\n",
    " [0 ,2 ,3, 1 ,1],\n",
    " [4,4,3,2,1],\n",
    " [3,2,1,4,0]])\n",
    "print(xxxx)"
   ]
  },
  {
   "cell_type": "code",
   "execution_count": 28,
   "metadata": {},
   "outputs": [
    {
     "name": "stdout",
     "output_type": "stream",
     "text": [
      "t1\n",
      "tf.Tensor(\n",
      "[[0 7 3 7 5]\n",
      " [0 5 7 3 0]\n",
      " [6 3 7 8 1]\n",
      " [1 1 0 6 0]], shape=(4, 5), dtype=int64)\n",
      "t2\n",
      "tf.Tensor(\n",
      "[[0 1 2 3 4]\n",
      " [0 1 2 3 4]\n",
      " [0 1 2 3 4]\n",
      " [0 1 2 3 4]], shape=(4, 5), dtype=int32)\n",
      "t1 argsort\n",
      "tf.Tensor(\n",
      "[[0 2 4 1 3]\n",
      " [0 4 3 1 2]\n",
      " [4 1 0 2 3]\n",
      " [2 4 0 1 3]], shape=(4, 5), dtype=int32)\n"
     ]
    }
   ],
   "source": [
    "c,d=sort_key_val_2(example,ticker)"
   ]
  },
  {
   "cell_type": "code",
   "execution_count": 29,
   "metadata": {},
   "outputs": [
    {
     "data": {
      "text/plain": [
       "(<tf.Tensor: shape=(4, 5), dtype=int64, numpy=\n",
       " array([[0, 3, 5, 7, 7],\n",
       "        [0, 0, 3, 5, 7],\n",
       "        [1, 3, 6, 7, 8],\n",
       "        [0, 0, 1, 1, 6]])>,\n",
       " <tf.Tensor: shape=(4, 5), dtype=int32, numpy=\n",
       " array([[0, 2, 4, 1, 3],\n",
       "        [0, 4, 3, 1, 2],\n",
       "        [4, 1, 0, 2, 3],\n",
       "        [2, 4, 0, 1, 3]], dtype=int32)>)"
      ]
     },
     "execution_count": 29,
     "metadata": {},
     "output_type": "execute_result"
    }
   ],
   "source": [
    "c,d"
   ]
  },
  {
   "cell_type": "code",
   "execution_count": 51,
   "metadata": {},
   "outputs": [
    {
     "name": "stdout",
     "output_type": "stream",
     "text": [
      "t1\n",
      "tf.Tensor(\n",
      "[[0 7 3 7 5]\n",
      " [0 5 7 3 0]\n",
      " [6 3 7 8 1]\n",
      " [1 1 0 6 0]], shape=(4, 5), dtype=int64)\n",
      "t2\n",
      "tf.Tensor(\n",
      "[[0 1 2 3 4]\n",
      " [0 2 3 1 1]\n",
      " [4 4 3 2 1]\n",
      " [3 2 1 4 0]], shape=(4, 5), dtype=int32)\n",
      "t1 argsort\n",
      "tf.Tensor(\n",
      "[[0 2 4 1 3]\n",
      " [0 4 3 1 2]\n",
      " [4 1 0 2 3]\n",
      " [2 4 0 1 3]], shape=(4, 5), dtype=int32)\n"
     ]
    }
   ],
   "source": [
    "c,d=sort_key_val_2(example,xxxx)"
   ]
  },
  {
   "cell_type": "code",
   "execution_count": 31,
   "metadata": {},
   "outputs": [
    {
     "data": {
      "text/plain": [
       "(<tf.Tensor: shape=(4, 5), dtype=int64, numpy=\n",
       " array([[0, 3, 5, 7, 7],\n",
       "        [0, 0, 3, 5, 7],\n",
       "        [1, 3, 6, 7, 8],\n",
       "        [0, 0, 1, 1, 6]])>,\n",
       " <tf.Tensor: shape=(4, 5), dtype=int32, numpy=\n",
       " array([[0, 2, 4, 1, 3],\n",
       "        [0, 1, 1, 2, 3],\n",
       "        [1, 4, 4, 3, 2],\n",
       "        [1, 0, 3, 2, 4]], dtype=int32)>)"
      ]
     },
     "execution_count": 31,
     "metadata": {},
     "output_type": "execute_result"
    }
   ],
   "source": [
    "c,d"
   ]
  },
  {
   "cell_type": "code",
   "execution_count": null,
   "metadata": {},
   "outputs": [],
   "source": []
  },
  {
   "cell_type": "code",
   "execution_count": null,
   "metadata": {},
   "outputs": [],
   "source": []
  }
 ],
 "metadata": {
  "kernelspec": {
   "display_name": "Python 3",
   "language": "python",
   "name": "python3"
  },
  "language_info": {
   "codemirror_mode": {
    "name": "ipython",
    "version": 3
   },
   "file_extension": ".py",
   "mimetype": "text/x-python",
   "name": "python",
   "nbconvert_exporter": "python",
   "pygments_lexer": "ipython3",
   "version": "3.6.9"
  }
 },
 "nbformat": 4,
 "nbformat_minor": 4
}
